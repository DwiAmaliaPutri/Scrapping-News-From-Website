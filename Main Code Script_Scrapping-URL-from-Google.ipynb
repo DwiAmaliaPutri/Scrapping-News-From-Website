{
 "cells": [
  {
   "cell_type": "raw",
   "id": "71ee6d75-e82c-4929-8171-5fed2aea148f",
   "metadata": {},
   "source": [
    "Link untuk selenium 4: https://github.com/SergeyPirogov/webdriver_manager"
   ]
  },
  {
   "cell_type": "code",
   "execution_count": 1,
   "id": "f999e3f1-1d62-453a-a579-76567455c72c",
   "metadata": {},
   "outputs": [
    {
     "name": "stderr",
     "output_type": "stream",
     "text": [
      "Traceback (most recent call last):\n",
      "  File \"C:\\Users\\HP ATHLON\\OneDrive\\Documents\\Phyton Script\\Big Data\\selenium-search-url.py\", line 16, in <module>\n",
      "    with open('hasil-search-url1.txt', 'w', encoding='utf-8') as file:\n",
      "PermissionError: [Errno 13] Permission denied: 'hasil-search-url1.txt'\n"
     ]
    }
   ],
   "source": [
    "!python selenium-search-url.py > hasil-search-url1.txt"
   ]
  },
  {
   "cell_type": "code",
   "execution_count": null,
   "id": "0408834d-fb5a-431b-9c21-de333853e4d3",
   "metadata": {},
   "outputs": [
    {
     "name": "stdout",
     "output_type": "stream",
     "text": [
      "[\"PRESIDEN REPUBLIK INDONESIA\\nPresiden Joko Widodo\\nIr. H. Joko Widodo\\nUnduh Foto Resmi\\nIr. H. Joko Widodo adalah Presiden ke-7 Republik Indonesia yang mulai menjabat sejak 20 Oktober 2014. Lahir di Surakarta, Jawa Tengah, pada 21 Juni 1961, Joko Widodo pertama kali terjun ke pemerintahan sebagai Wali Kota Surakarta (Solo) pada 28 Juli 2005 hingga 1 Oktober 2012.\\nSelepas itu, Joko Widodo menjabat sebagai Gubernur DKI Jakarta pada 15 Oktober 2012 sebelum terpilih sebagai Presiden Republik Indonesia pada Pemilihan Presiden (Pilpres) 2014. Saat Pilpres tersebut Joko Widodo terpilih bersama pasangannya, Jusuf Kalla.\\nDalam Pilpres 2019, Joko Widodo kembali terpilih sebagai Presiden Republik Indonesia untuk masa jabatannya yang kedua. Kali ini, Joko Widodo didampingi oleh Wakil Presiden K.H. Ma’ruf Amin dan dilantik pada 20 Oktober 2019 untuk masa jabatan 2019 hingga 2024 mendatang.\\nPembangunan infrastruktur menjadi program prioritas di masa kepemimpinannya yang pertama. Pembangunan yang dilakukan secara merata hingga ke daerah terluar Indonesia ini dilakukan untuk mengejar ketertinggalan Indonesia dalam sektor ini dibandingkan negara-negara lain.\\nProgram prioritas tersebut dibarengi dengan program berupa bantuan sosial seperti Kartu Indonesia Pintar (KIP), Kartu Indonesia Sehat (KIS), hingga Program Keluarga Harapan (PKH). Selain itu, sejak awal masa jabatannya, Joko Widodo juga mengupayakan reforma agraria dengan salah satunya melakukan percepatan penerbitan sertifikat hak atas tanah untuk mengurangi terjadinya sengketa lahan oleh karena ketiadaan sertifikat.\\nDi masa jabatannya yang kedua, Joko Widodo mengalihkan fokus pemerintahan pada pembangunan dan peningkatan kapasitas sumber daya manusia Indonesia untuk dapat bersaing dengan negara-negara lainnya. Adapun program pembangunan infrastruktur masih terus dilanjutkan bersamaan dengan itu.\\nDikelola oleh:\\nBIRO PERS, MEDIA, DAN INFORMASI\\nSEKRETARIAT PRESIDEN\\nJl. Veteran No. 16\\nJakarta Pusat, Kode Pos 10110\\nPEMERINTAHAN\\nKabinet Indonesia Maju\\nCapaian Kinerja\\nPERS\\nSiaran Pers\\nFoto Presiden\\nVideo Presiden\\nTranskrip\\nKEPRESIDENAN\\nPresiden Joko Widodo\\nWakil Presiden Ma'ruf Amin\\n© 2019-2024 Biro Pers, Media dan Informasi Sekretariat Presiden - Kementerian Sekretariat Negara\", \"PRESIDEN REPUBLIK INDONESIA\\nKabinet Indonesia Maju\\nKabinet Indonesia Maju adalah kabinet pemerintahan yang dipimpin oleh Presiden Joko Widodo dan Wakil Presiden Ma’ruf Amin. Kabinet ini terdiri atas 4 menteri koordinator dan 30 menteri bidang yang diumumkan pada 23 Oktober 2019 dan dilantik berdasarkan Surat Keputusan Presiden Republik Indonesia Nomor 113/P Tahun 2019 tentang Pembentukan Kementerian Negara dan Pengangkatan Menteri Negara Kabinet Indonesia Maju Periode Tahun 2019-2024.\\nPada 23 Desember 2020, Presiden Joko Widodo dan Wakil Presiden Ma’ruf Amin melakukan pergantian sejumlah menteri dengan memperkenalkan enam figur baru dalam kabinet berdasarkan pada Keputusan Presiden Republik Indonesia Nomor 133/P Tahun 2020 tentang Pengisian dan Penggantian Beberapa Menteri Negara Kabinet Indonesia Maju Periode Tahun 2019-2024.\\nSelanjutnya, pada 28 April 2021, Presiden Joko Widodo melantik dua menteri kabinet berdasarkan pada Keputusan Presiden Republik Indonesia Nomor 72/P Tahun 2021 tentang Pembentukan dan Pengubahan Kementerian serta Pengangkatan Beberapa Menteri Negara Kabinet Indonesia Maju Periode Tahun 2019-2024. Melalui pengubahan terbaru ini, Kepala Negara sekaligus memperkenalkan Kementerian Pendidikan, Kebudayaan, Riset, dan Teknologi serta Kementerian Investasi.\\nPRESIDEN DAN WAKIL PRESIDEN\\nIr. H. Joko Widodo\\nPresiden Republik Indonesia\\nProf. Dr. (H.C.) K.H. Ma’ruf Amin\\nWakil Presiden Republik Indonesia\\nMENTERI KOORDINATOR\\nHadi Tjahjanto\\nMenteri Koordinator Bidang Politik, Hukum, dan Keamanan.\\nAirlangga Hartarto\\nMenteri Koordinator Bidang Perekonomian\\nMuhadjir Effendy\\nMenteri Koordinator Bidang Pembangunan Manusia dan Kebudayaan\\nLuhut Binsar Pandjaitan\\nMenteri Koordinator Bidang Kemaritiman dan Investasi\\nMENTERI BIDANG\\nPratikno\\nMenteri Sekretaris Negara\\nMuhammad Tito Karnavian\\nMenteri Dalam Negeri\\nRetno Lestari Priansari Marsudi\\nMenteri Luar Negeri\\nPrabowo Subianto\\nMenteri Pertahanan\\nYaqut Cholil Qoumas\\nMenteri Agama\\nYasonna H. Laoly\\nMenteri Hukum dan Hak Asasi Manusia\\nSri Mulyani Indrawati\\nMenteri Keuangan\\nNadiem Anwar Makarim\\nMenteri Pendidikan, Kebudayaan, Riset, dan Teknologi\\nBudi Gunadi Sadikin\\nMenteri Kesehatan\\nTri Rismaharini\\nMenteri Sosial\\nIda Fauziyah\\nMenteri Ketenagakerjaan\\nAgus Gumiwang Kartasasmita\\nMenteri Perindustrian\\nZulkifli Hasan\\nMenteri Perdagangan\\nArifin Tasrif\\nMenteri Energi dan Sumber Daya Mineral\\nMochamad Basuki Hadimuljono\\nMenteri Pekerjaan Umum dan Perumahan Rakyat\\nBudi Karya Sumadi\\nMenteri Perhubungan\\nBudi Arie Setiadi\\nMenteri Komunikasi dan Informatika\\nAndi Amran Sulaiman\\nMenteri Pertanian\\nSiti Nurbaya\\nMenteri Lingkungan Hidup dan Kehutanan\\nSakti Wahyu Trenggono\\nMenteri Kelautan dan Perikanan\\nA. Halim Iskandar\\nMenteri Desa, Pembangunan Daerah Tertinggal, dan Transmigrasi\\nAgus Harimurti Yudhoyono\\nMenteri Agraria dan Tata Ruang\\nSuharso Monoarfa\\nMenteri Perencanaan Pembangunan Nasional\\nAbdullah Azwar Anas\\nMenteri Pendayagunaan Aparatur Negara dan Reformasi Birokrasi\\nErick Thohir\\nMenteri Badan Usaha Milik Negara\\nTeten Masduki\\nMenteri Koperasi dan Usaha Kecil dan Menengah\\nSandiaga Salahuddin Uno\\nMenteri Pariwisata dan Ekonomi Kreatif\\nI Gusti Ayu Bintang Darmavati\\nMenteri Pemberdayaan Perempuan dan Perlindungan Anak\\nBahlil Lahadalia\\nMenteri Investasi\\nArio Bimo Nandito Ariotedjo\\nMenteri Pemuda dan Olahraga\\nBahlil Lahadalia\\nMenteri Investasi/Kepala Badan Koordinasi Penanaman Modal\\nPramono Anung Wibowo\\nSekretaris Kabinet\\nST Burhanuddim\\nJaksa Agung\\nJenderal TNI Agus Subiyanto\\nPanglima Tentara Nasional Indonesia\\nJenderal Pol. Listyo Sigit Prabowo\\nKepala Kepolisian Republik Indonesia\\nMoeldoko\\nKepala Staf Kepresidenan\\nDikelola oleh:\\nBIRO PERS, MEDIA, DAN INFORMASI\\nSEKRETARIAT PRESIDEN\\nJl. Veteran No. 16\\nJakarta Pusat, Kode Pos 10110\\nPEMERINTAHAN\\nKabinet Indonesia Maju\\nCapaian Kinerja\\nPERS\\nSiaran Pers\\nFoto Presiden\\nVideo Presiden\\nTranskrip\\nKEPRESIDENAN\\nPresiden Joko Widodo\\nWakil Presiden Ma'ruf Amin\\n© 2019-2024 Biro Pers, Media dan Informasi Sekretariat Presiden - Kementerian Sekretariat Negara\"]\n"
     ]
    }
   ],
   "source": [
    "!python selenium-browse-url.py -i hasil-search-url.txt -o hasil-browse-url1.txt"
   ]
  },
  {
   "cell_type": "code",
   "execution_count": 1,
   "id": "f726bf1b-e095-42ff-9663-0990c76b5658",
   "metadata": {},
   "outputs": [
    {
     "data": {
      "text/plain": [
       "'Ir. H. Joko Widodo adalah Presiden ke-7 Republik Indonesia yang mulai menjabat sejak 20 Oktober 2014. Lahir di Surakarta, Jawa Tengah, pada 21 Juni 1961, Joko Widodo pertama kali terjun ke pemerintahan sebagai Wali Kota Surakarta (Solo) pada 28 Juli 2005 hingga 1 Oktober 2012.'"
      ]
     },
     "execution_count": 1,
     "metadata": {},
     "output_type": "execute_result"
    }
   ],
   "source": [
    "# Buka file untuk dibaca\n",
    "import ast\n",
    "with open('hasil-browse-url.txt', 'r', encoding='utf-8') as file:\n",
    "    # Baca isi file\n",
    "    for line in file:\n",
    "        # Menggunakan ast.literal_eval untuk mengubah string menjadi struktur data Python\n",
    "        row = ast.literal_eval(line.strip())\n",
    "# mengakses kalimat pertama dari url pertama\n",
    "row[0][0]"
   ]
  },
  {
   "cell_type": "code",
   "execution_count": 4,
   "id": "d787bfcd-3a61-40d4-859b-1d792a7858e1",
   "metadata": {},
   "outputs": [
    {
     "data": {
      "text/plain": [
       "'21 Juni 1961 (umur 62)'"
      ]
     },
     "execution_count": 4,
     "metadata": {},
     "output_type": "execute_result"
    }
   ],
   "source": [
    "#mengakses kalimat kedua dari url keenam\n",
    "row[1][5]"
   ]
  }
 ],
 "metadata": {
  "kernelspec": {
   "display_name": "Python 3 (ipykernel)",
   "language": "python",
   "name": "python3"
  },
  "language_info": {
   "codemirror_mode": {
    "name": "ipython",
    "version": 3
   },
   "file_extension": ".py",
   "mimetype": "text/x-python",
   "name": "python",
   "nbconvert_exporter": "python",
   "pygments_lexer": "ipython3",
   "version": "3.9.12"
  }
 },
 "nbformat": 4,
 "nbformat_minor": 5
}
